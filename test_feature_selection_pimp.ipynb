{
 "cells": [
  {
   "cell_type": "code",
   "execution_count": 1,
   "metadata": {},
   "outputs": [
    {
     "name": "stderr",
     "output_type": "stream",
     "text": [
      "C:\\Users\\jungj\\AppData\\Roaming\\Python\\Python37\\site-packages\\sklearn\\utils\\deprecation.py:143: FutureWarning: The sklearn.ensemble.forest module is  deprecated in version 0.22 and will be removed in version 0.24. The corresponding classes / functions should instead be imported from sklearn.ensemble. Anything that cannot be imported from sklearn.ensemble is now part of the private API.\n",
      "  warnings.warn(message, FutureWarning)\n"
     ]
    }
   ],
   "source": [
    "import pandas as pd\n",
    "import matplotlib.pyplot as plt\n",
    "import numpy as np\n",
    "import seaborn as sns\n",
    "from sklearn.ensemble import RandomForestRegressor\n",
    "from sklearn.metrics import mean_absolute_error, mean_squared_error, mean_absolute_error\n",
    "from sklearn.model_selection import cross_val_score\n",
    "from rfpimp import *\n",
    "from sklearn.model_selection import train_test_split"
   ]
  },
  {
   "cell_type": "code",
   "execution_count": 2,
   "metadata": {},
   "outputs": [
    {
     "data": {
      "text/html": [
       "<div>\n",
       "<style scoped>\n",
       "    .dataframe tbody tr th:only-of-type {\n",
       "        vertical-align: middle;\n",
       "    }\n",
       "\n",
       "    .dataframe tbody tr th {\n",
       "        vertical-align: top;\n",
       "    }\n",
       "\n",
       "    .dataframe thead th {\n",
       "        text-align: right;\n",
       "    }\n",
       "</style>\n",
       "<table border=\"1\" class=\"dataframe\">\n",
       "  <thead>\n",
       "    <tr style=\"text-align: right;\">\n",
       "      <th></th>\n",
       "      <th>Unnamed: 0</th>\n",
       "      <th>Unnamed: 0.1</th>\n",
       "      <th>ALAND</th>\n",
       "      <th>AWATER</th>\n",
       "      <th>BLKGRPCE</th>\n",
       "      <th>COUNTYFP</th>\n",
       "      <th>E11B19001e1</th>\n",
       "      <th>E11B19001e13</th>\n",
       "      <th>E11B19001e2</th>\n",
       "      <th>E11B19013e1</th>\n",
       "      <th>...</th>\n",
       "      <th>D01B01001e44-46</th>\n",
       "      <th>D01B01001e47-49</th>\n",
       "      <th>S07B15003e15-17</th>\n",
       "      <th>S07B15003e18-21</th>\n",
       "      <th>S07B15003e23-25</th>\n",
       "      <th>E11B19001e3-5</th>\n",
       "      <th>E11B19001e6-10</th>\n",
       "      <th>E11B19001e11-12</th>\n",
       "      <th>E11B19001e14-15</th>\n",
       "      <th>E11B19001e16-17</th>\n",
       "    </tr>\n",
       "  </thead>\n",
       "  <tbody>\n",
       "    <tr>\n",
       "      <th>0</th>\n",
       "      <td>0</td>\n",
       "      <td>0</td>\n",
       "      <td>337300</td>\n",
       "      <td>0</td>\n",
       "      <td>3</td>\n",
       "      <td>59</td>\n",
       "      <td>688</td>\n",
       "      <td>83</td>\n",
       "      <td>115</td>\n",
       "      <td>62019.0</td>\n",
       "      <td>...</td>\n",
       "      <td>44.0</td>\n",
       "      <td>18.0</td>\n",
       "      <td>135.0</td>\n",
       "      <td>405.0</td>\n",
       "      <td>87.0</td>\n",
       "      <td>60.0</td>\n",
       "      <td>114.0</td>\n",
       "      <td>156.0</td>\n",
       "      <td>88.0</td>\n",
       "      <td>72.0</td>\n",
       "    </tr>\n",
       "    <tr>\n",
       "      <th>1</th>\n",
       "      <td>1</td>\n",
       "      <td>1</td>\n",
       "      <td>686935</td>\n",
       "      <td>0</td>\n",
       "      <td>1</td>\n",
       "      <td>59</td>\n",
       "      <td>1280</td>\n",
       "      <td>262</td>\n",
       "      <td>61</td>\n",
       "      <td>82353.0</td>\n",
       "      <td>...</td>\n",
       "      <td>121.0</td>\n",
       "      <td>44.0</td>\n",
       "      <td>231.0</td>\n",
       "      <td>780.0</td>\n",
       "      <td>312.0</td>\n",
       "      <td>40.0</td>\n",
       "      <td>179.0</td>\n",
       "      <td>223.0</td>\n",
       "      <td>172.0</td>\n",
       "      <td>343.0</td>\n",
       "    </tr>\n",
       "    <tr>\n",
       "      <th>2</th>\n",
       "      <td>2</td>\n",
       "      <td>2</td>\n",
       "      <td>209303</td>\n",
       "      <td>0</td>\n",
       "      <td>2</td>\n",
       "      <td>59</td>\n",
       "      <td>321</td>\n",
       "      <td>17</td>\n",
       "      <td>6</td>\n",
       "      <td>23924.0</td>\n",
       "      <td>...</td>\n",
       "      <td>68.0</td>\n",
       "      <td>71.0</td>\n",
       "      <td>109.0</td>\n",
       "      <td>179.0</td>\n",
       "      <td>120.0</td>\n",
       "      <td>170.0</td>\n",
       "      <td>30.0</td>\n",
       "      <td>59.0</td>\n",
       "      <td>0.0</td>\n",
       "      <td>39.0</td>\n",
       "    </tr>\n",
       "    <tr>\n",
       "      <th>3</th>\n",
       "      <td>3</td>\n",
       "      <td>3</td>\n",
       "      <td>323900</td>\n",
       "      <td>0</td>\n",
       "      <td>2</td>\n",
       "      <td>59</td>\n",
       "      <td>417</td>\n",
       "      <td>40</td>\n",
       "      <td>0</td>\n",
       "      <td>112132.0</td>\n",
       "      <td>...</td>\n",
       "      <td>44.0</td>\n",
       "      <td>8.0</td>\n",
       "      <td>121.0</td>\n",
       "      <td>279.0</td>\n",
       "      <td>151.0</td>\n",
       "      <td>47.0</td>\n",
       "      <td>53.0</td>\n",
       "      <td>31.0</td>\n",
       "      <td>152.0</td>\n",
       "      <td>94.0</td>\n",
       "    </tr>\n",
       "    <tr>\n",
       "      <th>4</th>\n",
       "      <td>4</td>\n",
       "      <td>4</td>\n",
       "      <td>323906</td>\n",
       "      <td>0</td>\n",
       "      <td>1</td>\n",
       "      <td>59</td>\n",
       "      <td>370</td>\n",
       "      <td>38</td>\n",
       "      <td>7</td>\n",
       "      <td>106250.0</td>\n",
       "      <td>...</td>\n",
       "      <td>47.0</td>\n",
       "      <td>58.0</td>\n",
       "      <td>85.0</td>\n",
       "      <td>130.0</td>\n",
       "      <td>122.0</td>\n",
       "      <td>17.0</td>\n",
       "      <td>27.0</td>\n",
       "      <td>91.0</td>\n",
       "      <td>33.0</td>\n",
       "      <td>157.0</td>\n",
       "    </tr>\n",
       "  </tbody>\n",
       "</table>\n",
       "<p>5 rows × 94 columns</p>\n",
       "</div>"
      ],
      "text/plain": [
       "   Unnamed: 0  Unnamed: 0.1   ALAND  AWATER  BLKGRPCE  COUNTYFP  E11B19001e1  \\\n",
       "0           0             0  337300       0         3        59          688   \n",
       "1           1             1  686935       0         1        59         1280   \n",
       "2           2             2  209303       0         2        59          321   \n",
       "3           3             3  323900       0         2        59          417   \n",
       "4           4             4  323906       0         1        59          370   \n",
       "\n",
       "   E11B19001e13  E11B19001e2  E11B19013e1  ...  D01B01001e44-46  \\\n",
       "0            83          115      62019.0  ...             44.0   \n",
       "1           262           61      82353.0  ...            121.0   \n",
       "2            17            6      23924.0  ...             68.0   \n",
       "3            40            0     112132.0  ...             44.0   \n",
       "4            38            7     106250.0  ...             47.0   \n",
       "\n",
       "   D01B01001e47-49  S07B15003e15-17  S07B15003e18-21  S07B15003e23-25  \\\n",
       "0             18.0            135.0            405.0             87.0   \n",
       "1             44.0            231.0            780.0            312.0   \n",
       "2             71.0            109.0            179.0            120.0   \n",
       "3              8.0            121.0            279.0            151.0   \n",
       "4             58.0             85.0            130.0            122.0   \n",
       "\n",
       "   E11B19001e3-5  E11B19001e6-10  E11B19001e11-12 E11B19001e14-15  \\\n",
       "0           60.0           114.0            156.0            88.0   \n",
       "1           40.0           179.0            223.0           172.0   \n",
       "2          170.0            30.0             59.0             0.0   \n",
       "3           47.0            53.0             31.0           152.0   \n",
       "4           17.0            27.0             91.0            33.0   \n",
       "\n",
       "   E11B19001e16-17  \n",
       "0             72.0  \n",
       "1            343.0  \n",
       "2             39.0  \n",
       "3             94.0  \n",
       "4            157.0  \n",
       "\n",
       "[5 rows x 94 columns]"
      ]
     },
     "execution_count": 2,
     "metadata": {},
     "output_type": "execute_result"
    }
   ],
   "source": [
    "merged_df = pd.read_csv(\"df_grouped_turnout.csv\")\n",
    "merged_df.head()"
   ]
  },
  {
   "cell_type": "code",
   "execution_count": 3,
   "metadata": {},
   "outputs": [
    {
     "data": {
      "text/plain": [
       "Unnamed: 0         0\n",
       "Unnamed: 0.1       0\n",
       "ALAND              0\n",
       "AWATER             0\n",
       "BLKGRPCE           0\n",
       "                  ..\n",
       "E11B19001e3-5      0\n",
       "E11B19001e6-10     0\n",
       "E11B19001e11-12    0\n",
       "E11B19001e14-15    0\n",
       "E11B19001e16-17    0\n",
       "Length: 94, dtype: int64"
      ]
     },
     "execution_count": 3,
     "metadata": {},
     "output_type": "execute_result"
    }
   ],
   "source": [
    "merged_df.isnull().sum()"
   ]
  },
  {
   "cell_type": "code",
   "execution_count": 4,
   "metadata": {},
   "outputs": [],
   "source": [
    "nans = merged_df.loc[:, (merged_df.isnull().sum() > 0)].columns.tolist()"
   ]
  },
  {
   "cell_type": "code",
   "execution_count": 7,
   "metadata": {},
   "outputs": [
    {
     "data": {
      "text/plain": [
       "Index(['Unnamed: 0', 'Unnamed: 0.1', 'ALAND', 'AWATER', 'BLKGRPCE', 'COUNTYFP',\n",
       "       'E11B19001e1', 'E11B19001e13', 'E11B19001e2', 'E11B19013e1',\n",
       "       'E11B19025e1', 'E11B19055e2', 'E11B19059e2', 'E12B19113e1',\n",
       "       'E12B20002e1', 'E12B20002e2', 'E12B20002e3', 'E13B19101e1', 'FUNCSTAT',\n",
       "       'GEOID', 'GEOID_Data', 'INTPTLAT', 'INTPTLON', 'MTFCC', 'NAMELSAD',\n",
       "       'OBJECTID', 'STATEFP', 'Shape__Area', 'Shape__Length', 'TRACTCE',\n",
       "       'H07B25003e2', 'H07B25003e3', 'H18B25081e1', 'H18B25081e2',\n",
       "       'H18B25081e4', 'H18B25081e5', 'H18B25081e6', 'H18B25081e7',\n",
       "       'H18B25081e8', 'H18B25082e1', 'H18B25082e2', 'H18B25082e3',\n",
       "       'D01B01001e1', 'D01B01001e2', 'D01B01001e26', 'D02B01002Ae1',\n",
       "       'D02B01002Be1', 'D02B01002Ce1', 'D02B01002De1', 'D02B01002Ee1',\n",
       "       'D02B01002Fe1', 'D02B01002Ge1', 'D02B01002He1', 'D02B01002Ie1',\n",
       "       'D02B01002e1', 'D02B01002e2', 'D02B01002e3', 'D03B02001e1',\n",
       "       'D03B02001e2', 'D03B02001e3', 'D03B02001e4', 'D03B02001e5',\n",
       "       'D03B02001e6', 'D03B02001e7', 'D03B02001e8', 'D04B02001e1',\n",
       "       'S01B11001e1', 'S02B09019e2', 'S07B15003e22', 'S08B21001e1',\n",
       "       'S08B21001e2', 'S19B28008e10', 'S19B28008e2', 'S19B28008e4',\n",
       "       'S19B28008e9', 'Voter_Turnout', 'D01B01001e7-10', 'D01B01001e11-14',\n",
       "       'D01B01001e15-19', 'D01B01001e20-22', 'D01B01001e23-25',\n",
       "       'D01B01001e31-34', 'D01B01001e35-38', 'D01B01001e39-43',\n",
       "       'D01B01001e44-46', 'D01B01001e47-49', 'S07B15003e15-17',\n",
       "       'S07B15003e18-21', 'S07B15003e23-25', 'E11B19001e3-5', 'E11B19001e6-10',\n",
       "       'E11B19001e11-12', 'E11B19001e14-15', 'E11B19001e16-17'],\n",
       "      dtype='object')"
      ]
     },
     "execution_count": 7,
     "metadata": {},
     "output_type": "execute_result"
    }
   ],
   "source": [
    "merged_df.columns"
   ]
  },
  {
   "cell_type": "code",
   "execution_count": 8,
   "metadata": {},
   "outputs": [
    {
     "ename": "SyntaxError",
     "evalue": "invalid character in identifier (<ipython-input-8-79f8a0e24416>, line 1)",
     "output_type": "error",
     "traceback": [
      "\u001b[1;36m  File \u001b[1;32m\"<ipython-input-8-79f8a0e24416>\"\u001b[1;36m, line \u001b[1;32m1\u001b[0m\n\u001b[1;33m    drop_columns = [“H01B25002e1”, “H01B25002e2”, “H01B25002e3”, “H02B25024e1”, “D01B01001e1”, “D01B01001e2”, “D01B01001e26”, “D02B01002e1”, “E11B19013e1”, “E11B19025e1”, “E12B19113e1”, “E13B19101e1”, “H18B25081e7”, “H18B25081e4”, “H18B25081e5”, “H18B25081e6”, “D02B01002e2”, “D02B01002e3”, “D03B02001e1”, “E12B20002e1”]\u001b[0m\n\u001b[1;37m                                ^\u001b[0m\n\u001b[1;31mSyntaxError\u001b[0m\u001b[1;31m:\u001b[0m invalid character in identifier\n"
     ]
    }
   ],
   "source": [
    "drop_columns = [\"H01B25002e1\", \"H01B25002e2\", \"H01B25002e3\", \"H02B25024e1\", \"D01B01001e1\", \"D01B01001e2\", \"D01B01001e26\", \"D02B01002e1\", \"E11B19013e1\", \"E11B19025e1\", \"E12B19113e1\", \"E13B19101e1\", “H18B25081e7”, “H18B25081e4”, “H18B25081e5”, “H18B25081e6”, “D02B01002e2”, “D02B01002e3”, “D03B02001e1”, “E12B20002e1”]"
   ]
  },
  {
   "cell_type": "code",
   "execution_count": 5,
   "metadata": {},
   "outputs": [],
   "source": [
    "new_df = merged_df.fillna(0)"
   ]
  },
  {
   "cell_type": "code",
   "execution_count": null,
   "metadata": {},
   "outputs": [],
   "source": [
    "no_nans = new_df.loc[:, (new_df.isnull().sum() > 0)].columns.tolist()"
   ]
  },
  {
   "cell_type": "code",
   "execution_count": null,
   "metadata": {},
   "outputs": [],
   "source": [
    "print(nans)\n",
    "print(no_nans)"
   ]
  },
  {
   "cell_type": "code",
   "execution_count": null,
   "metadata": {},
   "outputs": [],
   "source": []
  },
  {
   "cell_type": "code",
   "execution_count": null,
   "metadata": {},
   "outputs": [],
   "source": [
    "new_df.dtypes"
   ]
  },
  {
   "cell_type": "code",
   "execution_count": null,
   "metadata": {},
   "outputs": [],
   "source": [
    "clean_df = new_df.drop(['FUNCSTAT', 'MTFCC', 'Unnamed: 0', 'Unnamed: 0.1', 'INTPTLAT', 'INTPTLON', 'Shape__Area', 'Shape__Length', 'TRACTCE', 'OBJECTID', 'STATEFP', 'GEOID_Data', 'NAMELSAD', 'ALAND', 'AWATER',  'BLKGRPCE', 'COUNTYFP'], axis=1)\n",
    "clean_df"
   ]
  },
  {
   "cell_type": "code",
   "execution_count": null,
   "metadata": {
    "scrolled": true
   },
   "outputs": [],
   "source": [
    "clean_df.set_index('GEOID', inplace = True)\n",
    "clean_df"
   ]
  },
  {
   "cell_type": "markdown",
   "metadata": {},
   "source": [
    "### Analysis"
   ]
  },
  {
   "cell_type": "code",
   "execution_count": null,
   "metadata": {},
   "outputs": [],
   "source": [
    "clean_df.columns"
   ]
  },
  {
   "cell_type": "code",
   "execution_count": null,
   "metadata": {},
   "outputs": [],
   "source": [
    "y = clean_df['Voter_Turnout'] >= 75\n",
    "X = clean_df.copy()\n",
    "del X['Voter_Turnout']"
   ]
  },
  {
   "cell_type": "code",
   "execution_count": null,
   "metadata": {},
   "outputs": [],
   "source": [
    "y"
   ]
  },
  {
   "cell_type": "code",
   "execution_count": null,
   "metadata": {},
   "outputs": [],
   "source": [
    "X.head()"
   ]
  },
  {
   "cell_type": "code",
   "execution_count": null,
   "metadata": {},
   "outputs": [],
   "source": [
    "from sklearn.model_selection import train_test_split\n",
    "X_train, X_test, y_train, y_test = train_test_split(X,y, random_state=42, test_size = 0.2)"
   ]
  },
  {
   "cell_type": "code",
   "execution_count": null,
   "metadata": {},
   "outputs": [],
   "source": [
    "rf = RandomForestRegressor(oob_score=True, n_estimators=100)\n",
    "rf.fit(X_train, y_train)"
   ]
  },
  {
   "cell_type": "code",
   "execution_count": null,
   "metadata": {},
   "outputs": [],
   "source": [
    "X_test.shape, X_train.shape"
   ]
  },
  {
   "cell_type": "code",
   "execution_count": null,
   "metadata": {},
   "outputs": [],
   "source": [
    "%time I = importances(rf, X_test, y_test)\n",
    "viz = plot_importances(I)\n",
    "#viz.save()"
   ]
  },
  {
   "cell_type": "markdown",
   "metadata": {},
   "source": [
    "### Permutation importance with test set"
   ]
  },
  {
   "cell_type": "code",
   "execution_count": null,
   "metadata": {},
   "outputs": [],
   "source": [
    "scores = []\n",
    "n_range = np.arange(8,len(X_test),1)\n",
    "full_I = importances(rf, X_test, y_test)\n",
    "for n in n_range:\n",
    "    I = importances(rf, X_test, y_test, n_samples=n)\n",
    "    e = mean_absolute_error(I.sort_index().Importance,full_I.sort_index().Importance)\n",
    "    scores.append(e)\n",
    "    print(f\"MAE between subsample and full test importance n_samples={n}: {e:.4f}\")"
   ]
  },
  {
   "cell_type": "code",
   "execution_count": null,
   "metadata": {},
   "outputs": [],
   "source": [
    "from matplotlib import rcParams\n",
    "rcParams['figure.figsize'] = (11,8)\n",
    "rcParams[\"font.size\"] = \"18\"\n",
    "plt.plot(n_range, scores)\n",
    "plt.ylabel(\"mean abs error full - subsample of test set\")\n",
    "plt.xlabel(\"sample size from test set\")\n",
    "plt.title(\"Permutation importance accuracy as func of test sample size\")\n",
    "plt.savefig(\"./rent-pimp-sample-size.svg\")\n",
    "plt.show()"
   ]
  },
  {
   "cell_type": "code",
   "execution_count": null,
   "metadata": {},
   "outputs": [],
   "source": [
    "%time I = cv_importances(rf, X_train, y_train, k=5)\n",
    "plot_importances(I)"
   ]
  },
  {
   "cell_type": "code",
   "execution_count": null,
   "metadata": {},
   "outputs": [],
   "source": [
    "rf = RandomForestRegressor(oob_score=True, n_estimators=100)\n",
    "%time I = dropcol_importances(rf, X_train, y_train)\n",
    "plot_importances(I)"
   ]
  },
  {
   "cell_type": "code",
   "execution_count": null,
   "metadata": {
    "scrolled": true
   },
   "outputs": [],
   "source": [
    "from eli5.sklearn import PermutationImportance\n",
    "import eli5\n",
    "\n",
    "%time perm = PermutationImportance(rf).fit(X_test, y_test, sample_weight=None)"
   ]
  },
  {
   "cell_type": "code",
   "execution_count": null,
   "metadata": {},
   "outputs": [],
   "source": [
    "J = pd.DataFrame(data={\"columns\":X_test.columns, \"importances\":perm.feature_importances_})\n",
    "J = J.set_index(\"columns\")\n",
    "J = J.sort_values('importances', ascending=True)\n",
    "J.plot.barh()"
   ]
  },
  {
   "cell_type": "code",
   "execution_count": null,
   "metadata": {
    "scrolled": true
   },
   "outputs": [],
   "source": [
    "from matplotlib.pyplot import figure\n",
    "figure(num=None, figsize=(80, 60), dpi=80, facecolor='w', edgecolor='k')\n",
    "\n",
    "J = J.sort_values('importances', ascending=False)\n",
    "I2 = J.head(20).sort_values('importances',ascending=True)\n",
    "I2.plot.barh()\n",
    "plt.savefig(\"./rent-pimp-sample-size2.svg\")"
   ]
  },
  {
   "cell_type": "code",
   "execution_count": null,
   "metadata": {},
   "outputs": [],
   "source": [
    "I2.sort_values('importances', ascending=False)"
   ]
  },
  {
   "cell_type": "code",
   "execution_count": null,
   "metadata": {},
   "outputs": [],
   "source": [
    "### for FEature correlation"
   ]
  },
  {
   "cell_type": "code",
   "execution_count": null,
   "metadata": {
    "scrolled": true
   },
   "outputs": [],
   "source": [
    "X_train['random'] = np.random.random(size=len(X_train))\n",
    "X_test['random'] = np.random.random(size=len(X_test))"
   ]
  },
  {
   "cell_type": "code",
   "execution_count": null,
   "metadata": {},
   "outputs": [],
   "source": [
    "rf = RandomForestClassifier(n_estimators=100, min_samples_leaf=5,n_jobs=-1,oob_score=True)\n",
    "rf.fit(X_train, y_train)"
   ]
  },
  {
   "cell_type": "code",
   "execution_count": null,
   "metadata": {},
   "outputs": [],
   "source": [
    "imp = importances(rf, X_test, y_test)\n",
    "viz = plot_importances(imp)\n",
    "viz.view()"
   ]
  },
  {
   "cell_type": "code",
   "execution_count": null,
   "metadata": {},
   "outputs": [],
   "source": [
    "clean_df.columns"
   ]
  },
  {
   "cell_type": "code",
   "execution_count": null,
   "metadata": {},
   "outputs": [],
   "source": [
    "clean_df[\"y\"] = clean_df['Voter_Turnout'] >= 75"
   ]
  },
  {
   "cell_type": "code",
   "execution_count": null,
   "metadata": {},
   "outputs": [],
   "source": [
    "clean_df.columns"
   ]
  },
  {
   "cell_type": "code",
   "execution_count": null,
   "metadata": {},
   "outputs": [],
   "source": [
    "df_all = clean_df.copy()"
   ]
  },
  {
   "cell_type": "code",
   "execution_count": null,
   "metadata": {},
   "outputs": [],
   "source": []
  },
  {
   "cell_type": "code",
   "execution_count": null,
   "metadata": {},
   "outputs": [],
   "source": [
    "features = X.columns.tolist()\n",
    "target = \"y\"\n",
    "df = df_all[features + [target]]"
   ]
  },
  {
   "cell_type": "code",
   "execution_count": null,
   "metadata": {},
   "outputs": [],
   "source": [
    "df.columns"
   ]
  },
  {
   "cell_type": "code",
   "execution_count": null,
   "metadata": {},
   "outputs": [],
   "source": [
    "df_train, df_test = train_test_split(df, test_size=0.20)"
   ]
  },
  {
   "cell_type": "code",
   "execution_count": null,
   "metadata": {},
   "outputs": [],
   "source": [
    "from rfpimp import plot_corr_heatmap\n",
    "viz = plot_corr_heatmap(df_train, figsize=(35,25))\n",
    "viz.save('./corrheatmap.svg')\n",
    "viz"
   ]
  },
  {
   "cell_type": "markdown",
   "metadata": {},
   "source": [
    "### analysis on selected features"
   ]
  },
  {
   "cell_type": "code",
   "execution_count": null,
   "metadata": {},
   "outputs": [],
   "source": [
    "X_cleaned_feature = X[[E12B20002e2, D02B01002Ie1, D03B02001e7, E12B20002e3, D03B02001e6, S07B15003e23, D01B01001e7,\n",
    "                       H18B25081e2\t0.014261\n",
    "E11B19001e1\t0.012833\n",
    "D02B01002e2\t0.009108\n",
    "D02B01002e3\t0.008894\n",
    "S08B21001e1\t0.007746]]\n",
    "X_cleaned_feature.head()"
   ]
  }
 ],
 "metadata": {
  "kernelspec": {
   "display_name": "Python 3",
   "language": "python",
   "name": "python3"
  },
  "language_info": {
   "codemirror_mode": {
    "name": "ipython",
    "version": 3
   },
   "file_extension": ".py",
   "mimetype": "text/x-python",
   "name": "python",
   "nbconvert_exporter": "python",
   "pygments_lexer": "ipython3",
   "version": "3.7.6"
  }
 },
 "nbformat": 4,
 "nbformat_minor": 4
}
